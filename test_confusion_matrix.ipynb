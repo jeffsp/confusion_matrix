{
 "cells": [
  {
   "cell_type": "code",
   "execution_count": 8,
   "metadata": {
    "collapsed": false
   },
   "outputs": [
    {
     "name": "stdout",
     "output_type": "stream",
     "text": [
      "true_positives 146\n",
      "true_negatives 424\n",
      "false_positives 199\n",
      "false_negatives 231\n",
      "recall 0.387268\n",
      "precision 0.423188\n",
      "accuracy 0.57\n",
      "F1 0.404432\n",
      "MCC 0.0691683\n",
      "\n"
     ]
    }
   ],
   "source": [
    "import random\n",
    "import subprocess\n",
    "with open('test.txt', 'w') as f:\n",
    "    for _ in xrange(1000):\n",
    "        p=int(random.gauss(10,1))\n",
    "        q=int(random.gauss(10,1))\n",
    "        txt='%d %d' % (p, q)\n",
    "        f.write(txt + '\\n')\n",
    "cmd = './build/release/confusion_matrix -c 10 < test.txt'\n",
    "txt=subprocess.check_output(cmd, shell=True)\n",
    "print(txt)"
   ]
  },
  {
   "cell_type": "code",
   "execution_count": null,
   "metadata": {
    "collapsed": true
   },
   "outputs": [],
   "source": []
  }
 ],
 "metadata": {
  "kernelspec": {
   "display_name": "Python 2",
   "language": "python",
   "name": "python2"
  },
  "language_info": {
   "codemirror_mode": {
    "name": "ipython",
    "version": 2
   },
   "file_extension": ".py",
   "mimetype": "text/x-python",
   "name": "python",
   "nbconvert_exporter": "python",
   "pygments_lexer": "ipython2",
   "version": "2.7.6"
  }
 },
 "nbformat": 4,
 "nbformat_minor": 0
}
