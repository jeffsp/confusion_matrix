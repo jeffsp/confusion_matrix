{
 "cells": [
  {
   "cell_type": "code",
   "execution_count": 33,
   "metadata": {
    "collapsed": false
   },
   "outputs": [
    {
     "name": "stdout",
     "output_type": "stream",
     "text": [
      "0.294118\n",
      "\n"
     ]
    }
   ],
   "source": [
    "import random\n",
    "import subprocess\n",
    "with open('test.txt', 'w') as f:\n",
    "    for _ in xrange(100):\n",
    "        p=int(random.gauss(10,1))\n",
    "        q=int(random.gauss(10,1))\n",
    "        f.write('%d %d\\n' % (p, q))\n",
    "cmd = './build/release/confusion_matrix -c 10 < test.txt'\n",
    "txt=subprocess.check_output(cmd, shell=True)\n",
    "print(txt)"
   ]
  }
 ],
 "metadata": {
  "kernelspec": {
   "display_name": "Python 2",
   "language": "python",
   "name": "python2"
  },
  "language_info": {
   "codemirror_mode": {
    "name": "ipython",
    "version": 2
   },
   "file_extension": ".py",
   "mimetype": "text/x-python",
   "name": "python",
   "nbconvert_exporter": "python",
   "pygments_lexer": "ipython2",
   "version": "2.7.6"
  }
 },
 "nbformat": 4,
 "nbformat_minor": 0
}
